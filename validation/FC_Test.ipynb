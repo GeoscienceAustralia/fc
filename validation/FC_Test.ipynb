{
 "cells": [
  {
   "cell_type": "code",
   "execution_count": 1,
   "metadata": {},
   "outputs": [
    {
     "name": "stdout",
     "output_type": "stream",
     "text": [
      "Populating the interactive namespace from numpy and matplotlib\n"
     ]
    }
   ],
   "source": [
    "%pylab notebook\n",
    "import datacube\n",
    "from datetime import datetime, timedelta\n",
    "from datacube.storage.storage import write_dataset_to_netcdf\n",
    "from fc.fractional_cover import fractional_cover\n",
    "import pandas as pd\n",
    "\n",
    "dc = datacube.Datacube(app='fc-tester-example')"
   ]
  },
  {
   "cell_type": "code",
   "execution_count": null,
   "metadata": {
    "collapsed": true
   },
   "outputs": [],
   "source": [
    "scenes = [\n",
    "    ('ls8','113','082','2013-10-29'),\n",
    "    ('ls8','111','077','2014-06-28'),\n",
    "    ('ls8','108','083','2014-09-11'),\n",
    "    ('ls8','108','079','2014-09-27'),\n",
    "    ('ls8','105','069','2014-10-08'),\n",
    "    ('ls8','103','076','2013-06-17'),\n",
    "    ('ls8','099','079','2015-03-23'),\n",
    "    ('ls8','098','077','2015-04-01'),\n",
    "    ('ls8','097','081','2015-09-17'),\n",
    "    ('ls8','098','071','2015-12-13'),\n",
    "    ('ls8','095','082','2015-11-06'),\n",
    "    ('ls8','094','085','2015-11-15'),\n",
    "    ('ls8','093','086','2015-11-24'),\n",
    "    ('ls8','096','072','2015-08-25'),\n",
    "    ('ls8','091','090','2015-10-24'),\n",
    "    ('ls8','090','086','2015-02-03'),\n",
    "    ('ls8','090','084','2015-02-19'),\n",
    "    ('ls8','090','085','2015-07-29'),\n",
    "    ('ls8','091','079','2015-06-18'),\n",
    "    ('ls8','089','084','2014-08-20'),\n",
    "    ('ls8','090','079','2014-08-27'),\n",
    "    ('ls8','089','079','2014-09-05')]"
   ]
  },
  {
   "cell_type": "code",
   "execution_count": 2,
   "metadata": {
    "collapsed": true
   },
   "outputs": [],
   "source": [
    "scenes = [\n",
    "    ('ls5','089','079','1988-10-15'),\n",
    "    ('ls5','089','079','1994-09-14'),\n",
    "    ('ls5','089','079','2004-04-02'),\n",
    "    ('ls7','089','079','2001-04-18'),\n",
    "    ('ls5','089','079','1996-06-15'),\n",
    "    ('ls8','089','079','2014-09-05')]"
   ]
  },
  {
   "cell_type": "code",
   "execution_count": 3,
   "metadata": {
    "collapsed": true
   },
   "outputs": [],
   "source": [
    "regression_coefficients = {\n",
    "    'blue': [0.00041,0.97470],\n",
    "    'green': [0.00289,0.99779],\n",
    "    'red': [0.00274,1.00446],\n",
    "    'nir': [0.00004,0.98906],\n",
    "    'swir1': [0.00256,0.99467],\n",
    "    'swir2': [-0.00327,1.02551]\n",
    "}"
   ]
  },
  {
   "cell_type": "code",
   "execution_count": 4,
   "metadata": {
    "collapsed": true
   },
   "outputs": [],
   "source": [
    "measurements = [\n",
    "    {'name': 'BS',\n",
    "     'src_var': 'BS',\n",
    "     'units': \"percent\",\n",
    "     'dtype': 'int8',\n",
    "     'nodata': -1,\n",
    "     'zlib': True,\n",
    "     'fletcher32': True,\n",
    "     'attrs':{\n",
    "         'long_name': \"Bare ground fraction percentage\",\n",
    "         'comment': \"Fraction of bare ground including rock, bare and disturbed soil, within the Landsat pixel as percentages\",\n",
    "         'alias': \"bare\",\n",
    "         'coverage_content_type': 'modelResult'\n",
    "     },\n",
    "      'aliases':[\"bare\"]},\n",
    "    {'name': 'PV',\n",
    "      'src_var': 'PV',\n",
    "      'units': \"percent\",\n",
    "      'dtype': 'int8',\n",
    "      'nodata': -1,\n",
    "      'zlib': True,\n",
    "      'fletcher32': True,\n",
    "      'attrs':{\n",
    "          'long_name': \"Green cover fraction percentage\",\n",
    "          'comment': \"Fraction of green cover including green groundcover and green leaf material over all strata, within the Landsat pixel, as percentages\",\n",
    "          'alias': \"green\",\n",
    "          'coverage_content_type': 'modelResult'\n",
    "          },\n",
    "      'aliases': [\"green_veg\"]},\n",
    "    {'name': 'NPV',\n",
    "      'src_var': 'NPV',\n",
    "      'units': \"percent\",\n",
    "      'dtype': 'int8',\n",
    "      'nodata': -1,\n",
    "      'zlib': True,\n",
    "      'fletcher32': True,\n",
    "      'attrs':{\n",
    "          'long_name': \"Non-green cover fraction percentage\",\n",
    "          'comment': \"Fraction of non green cover including litter, dead leaf and branches over all strata, within the Landsat pixel, as percentages\",\n",
    "          'alias': \"dead\",\n",
    "          'coverage_content_type': 'modelResult'\n",
    "         },\n",
    "      'aliases': [\"dead_veg\"]},\n",
    "    {'name': 'UE',\n",
    "      'src_var': 'UE',\n",
    "      'units': \"1\",\n",
    "      'dtype': 'int8',\n",
    "      'nodata': -1,\n",
    "      'zlib': True,\n",
    "      'fletcher32': True,\n",
    "      'attrs':{\n",
    "          'long_name': \"Unmixing error\",\n",
    "          'comment': \"Eclidean Norm of the Residual Vector\",\n",
    "          'alias': \"err\",\n",
    "          'coverage_content_type': 'qualityInformation'\n",
    "          },\n",
    "      'aliases': [\"err\"]}\n",
    "]"
   ]
  },
  {
   "cell_type": "code",
   "execution_count": 7,
   "metadata": {
    "collapsed": true
   },
   "outputs": [],
   "source": [
    "def write_old_and_new_fc(sensor, path, row, date):\n",
    "    target_day = datetime.strptime(date, '%Y-%m-%d')\n",
    "    day_before = (target_day - timedelta(days=1)).strftime('%Y-%m-%d')\n",
    "    day_after = (target_day + timedelta(days=1)).strftime('%Y-%m-%d')    \n",
    "    target_dir = '/g/data1/r78/dg6911/jrsrp-fc/'+path+'_'+row+'/'\n",
    "    print('path: ' + path + ' row:' + row + ' date:' + date)    \n",
    "    print('target dir: '+target_dir)\n",
    "    date_nodash = date.replace('-','')\n",
    "    target_file = '_'+sensor+'_'+path+'_'+row+'_'+date_nodash+'.nc'\n",
    "    #old_target = target_dir + 'old_fc' + target_file\n",
    "    #nbart_target = target_dir + 'nbart' + target_file\n",
    "    new_target = target_dir + 'new_end_fc' + target_file\n",
    "    \n",
    "    source_filter = dict(product=sensor+'_nbart_scene', sat_path=path, sat_row=row)\n",
    "#     try:\n",
    "#         print('reading old FC')\n",
    "#         data = dc.load(product=sensor+'_fc_albers', time=(day_before, day_after), source_filter=source_filter)\n",
    "    \n",
    "#         print('writing old FC')\n",
    "#         write_dataset_to_netcdf(data, old_target)\n",
    "#     except:\n",
    "#         print('could not find: '+sensor+'_p'+path+'_r'+row+'_'+date)\n",
    "#         print('error:', sys.exc_info()[0])\n",
    "    \n",
    "    print('reading NBART')\n",
    "    data = dc.load(product=sensor+'_nbart_albers', time=(day_before, day_after), source_filter=source_filter)\n",
    "    #write_dataset_to_netcdf(data, nbart_target)\n",
    "    if(sensor == 'ls8'):\n",
    "         use_coefficients=regression_coefficients\n",
    "    else:\n",
    "         use_coefficients=None\n",
    "    print('calculating new FC')\n",
    "    data = data.squeeze()\n",
    "    new_fc_data = fractional_cover(nbar_tile=data, measurements=measurements, regression_coefficients=use_coefficients)\n",
    "    \n",
    "    print('writing new FC')\n",
    "    write_dataset_to_netcdf(new_fc_data, new_target)\n",
    "    "
   ]
  },
  {
   "cell_type": "code",
   "execution_count": 8,
   "metadata": {},
   "outputs": [
    {
     "name": "stdout",
     "output_type": "stream",
     "text": [
      "path: 089 row:079 date:1988-10-15\n",
      "target dir: /g/data1/r78/dg6911/jrsrp-fc/089_079/\n",
      "reading NBART\n",
      "calculating new FC\n",
      "writing new FC\n",
      "path: 089 row:079 date:1994-09-14\n",
      "target dir: /g/data1/r78/dg6911/jrsrp-fc/089_079/\n",
      "reading NBART\n",
      "calculating new FC\n",
      "writing new FC\n",
      "path: 089 row:079 date:2004-04-02\n",
      "target dir: /g/data1/r78/dg6911/jrsrp-fc/089_079/\n",
      "reading NBART\n",
      "calculating new FC\n",
      "writing new FC\n",
      "path: 089 row:079 date:2001-04-18\n",
      "target dir: /g/data1/r78/dg6911/jrsrp-fc/089_079/\n",
      "reading NBART\n",
      "calculating new FC\n",
      "writing new FC\n",
      "path: 089 row:079 date:1996-06-15\n",
      "target dir: /g/data1/r78/dg6911/jrsrp-fc/089_079/\n",
      "reading NBART\n",
      "calculating new FC\n",
      "writing new FC\n",
      "path: 089 row:079 date:2014-09-05\n",
      "target dir: /g/data1/r78/dg6911/jrsrp-fc/089_079/\n",
      "reading NBART\n",
      "calculating new FC\n",
      "writing new FC\n"
     ]
    }
   ],
   "source": [
    "for scene in scenes:\n",
    "    write_old_and_new_fc(*scene)"
   ]
  }
 ],
 "metadata": {
  "kernelspec": {
   "display_name": "Python 3",
   "language": "python",
   "name": "python3"
  },
  "language_info": {
   "codemirror_mode": {
    "name": "ipython",
    "version": 3
   },
   "file_extension": ".py",
   "mimetype": "text/x-python",
   "name": "python",
   "nbconvert_exporter": "python",
   "pygments_lexer": "ipython3",
   "version": "3.6.1"
  }
 },
 "nbformat": 4,
 "nbformat_minor": 2
}
