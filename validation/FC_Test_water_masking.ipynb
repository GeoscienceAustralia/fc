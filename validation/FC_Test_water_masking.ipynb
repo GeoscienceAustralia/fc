{
 "cells": [
  {
   "cell_type": "code",
   "execution_count": 1,
   "metadata": {},
   "outputs": [
    {
     "name": "stdout",
     "output_type": "stream",
     "text": [
      "Populating the interactive namespace from numpy and matplotlib\n"
     ]
    }
   ],
   "source": [
    "%pylab notebook\n",
    "import datacube\n",
    "from datetime import datetime, timedelta\n",
    "from datacube.storage.storage import write_dataset_to_netcdf\n",
    "from fc.fractional_cover import fractional_cover\n",
    "import pandas as pd\n",
    "\n",
    "wofs_db = datacube.compat.read_config(u\"\"\"\n",
    "[datacube]\n",
    "# Blank implies localhost\n",
    "db_hostname: 130.56.244.105\n",
    "db_database: wofscube\n",
    "db_port: 6432\n",
    "db_username: dg6911\n",
    "db_password: _PsmygJVtNJTCAmfg1GmSYE_fNnjrNIT\n",
    "# If a connection is unused for this length of time, expect it to be invalidated\n",
    "db_connection_timeout: 60\n",
    "\"\"\")\n",
    "\n",
    "wofs_config = datacube.config.LocalConfig(wofs_db)\n",
    "dc = datacube.Datacube(app='fc-tester-example')\n",
    "wofsdc = datacube.Datacube(app='fc-water-masking', config=wofs_config)"
   ]
  },
  {
   "cell_type": "code",
   "execution_count": 2,
   "metadata": {
    "collapsed": true
   },
   "outputs": [],
   "source": [
    "scenes = [\n",
    "    ('ls8','089','079','2014-09-05'),\n",
    "]"
   ]
  },
  {
   "cell_type": "code",
   "execution_count": 3,
   "metadata": {
    "collapsed": true
   },
   "outputs": [],
   "source": [
    "regression_coefficients = {\n",
    "    'blue': [0.00041,0.97470],\n",
    "    'green': [0.00289,0.99779],\n",
    "    'red': [0.00274,1.00446],\n",
    "    'nir': [0.00004,0.98906],\n",
    "    'swir1': [0.00256,0.99467],\n",
    "    'swir2': [-0.00327,1.02551]\n",
    "}"
   ]
  },
  {
   "cell_type": "code",
   "execution_count": 4,
   "metadata": {
    "collapsed": true
   },
   "outputs": [],
   "source": [
    "measurements = [\n",
    "    {'name': 'BS',\n",
    "     'src_var': 'BS',\n",
    "     'units': \"percent\",\n",
    "     'dtype': 'int8',\n",
    "     'nodata': -1,\n",
    "     'zlib': True,\n",
    "     'fletcher32': True,\n",
    "     'attrs':{\n",
    "         'long_name': \"Bare ground fraction percentage\",\n",
    "         'comment': \"Fraction of bare ground including rock, bare and disturbed soil, within the Landsat pixel as percentages\",\n",
    "         'alias': \"bare\",\n",
    "         'coverage_content_type': 'modelResult'\n",
    "     },\n",
    "      'aliases':[\"bare\"]},\n",
    "    {'name': 'PV',\n",
    "      'src_var': 'PV',\n",
    "      'units': \"percent\",\n",
    "      'dtype': 'int8',\n",
    "      'nodata': -1,\n",
    "      'zlib': True,\n",
    "      'fletcher32': True,\n",
    "      'attrs':{\n",
    "          'long_name': \"Green cover fraction percentage\",\n",
    "          'comment': \"Fraction of green cover including green groundcover and green leaf material over all strata, within the Landsat pixel, as percentages\",\n",
    "          'alias': \"green\",\n",
    "          'coverage_content_type': 'modelResult'\n",
    "          },\n",
    "      'aliases': [\"green_veg\"]},\n",
    "    {'name': 'NPV',\n",
    "      'src_var': 'NPV',\n",
    "      'units': \"percent\",\n",
    "      'dtype': 'int8',\n",
    "      'nodata': -1,\n",
    "      'zlib': True,\n",
    "      'fletcher32': True,\n",
    "      'attrs':{\n",
    "          'long_name': \"Non-green cover fraction percentage\",\n",
    "          'comment': \"Fraction of non green cover including litter, dead leaf and branches over all strata, within the Landsat pixel, as percentages\",\n",
    "          'alias': \"dead\",\n",
    "          'coverage_content_type': 'modelResult'\n",
    "         },\n",
    "      'aliases': [\"dead_veg\"]},\n",
    "    {'name': 'UE',\n",
    "      'src_var': 'UE',\n",
    "      'units': \"1\",\n",
    "      'dtype': 'int8',\n",
    "      'nodata': -1,\n",
    "      'zlib': True,\n",
    "      'fletcher32': True,\n",
    "      'attrs':{\n",
    "          'long_name': \"Unmixing error\",\n",
    "          'comment': \"Eclidean Norm of the Residual Vector\",\n",
    "          'alias': \"err\",\n",
    "          'coverage_content_type': 'qualityInformation'\n",
    "          },\n",
    "      'aliases': [\"err\"]}\n",
    "]"
   ]
  },
  {
   "cell_type": "code",
   "execution_count": 16,
   "metadata": {},
   "outputs": [],
   "source": [
    "def write_old_and_new_fc(sensor, path, row, date):\n",
    "    target_day = datetime.strptime(date, '%Y-%m-%d')\n",
    "    day_before = (target_day - timedelta(days=1)).strftime('%Y-%m-%d')\n",
    "    day_after = (target_day + timedelta(days=1)).strftime('%Y-%m-%d')    \n",
    "    target_dir = '/g/data1/r78/dg6911/jrsrp-fc/'+path+'_'+row+'/'\n",
    "    print('path: ' + path + ' row:' + row + ' date:' + date)    \n",
    "    print('target dir: '+target_dir)\n",
    "    date_nodash = date.replace('-','')\n",
    "    target_file = '_'+sensor+'_'+path+'_'+row+'_'+date_nodash+'.nc'\n",
    "    #old_target = target_dir + 'old_fc' + target_file\n",
    "    #nbart_target = target_dir + 'nbart' + target_file\n",
    "    new_target = target_dir + 'new_end2_fc' + target_file\n",
    "    \n",
    "    source_filter = dict(product=sensor+'_nbart_scene', sat_path=path, sat_row=row)\n",
    "    #source_filter = dict(sat_path=path, sat_row=row)\n",
    "#     try:\n",
    "#         print('reading old FC')\n",
    "#         data = dc.load(product=sensor+'_fc_albers', time=(day_before, day_after), source_filter=source_filter)\n",
    "    \n",
    "#         print('writing old FC')\n",
    "#         write_dataset_to_netcdf(data, old_target)\n",
    "#     except:\n",
    "#         print('could not find: '+sensor+'_p'+path+'_r'+row+'_'+date)\n",
    "#         print('error:', sys.exc_info()[0])\n",
    "    \n",
    "    print('reading NBART')\n",
    "    data = dc.load(product=sensor+'_nbart_albers', time=(day_before, day_after), source_filter=source_filter)\n",
    "    \n",
    "    print('reading WOFS')\n",
    "    return wofsdc.load(product='old_wofs', time=(day_before, day_after), like=data)\n",
    "    \n",
    "    #write_dataset_to_netcdf(data, nbart_target)\n",
    "#     if(sensor == 'ls8'):\n",
    "#          use_coefficients=regression_coefficients\n",
    "#     else:\n",
    "#          use_coefficients=None\n",
    "#     print('calculating new FC')\n",
    "#     data = data.squeeze()\n",
    "#     new_fc_data = fractional_cover(nbar_tile=data, measurements=measurements, regression_coefficients=use_coefficients)\n",
    "    \n",
    "#     print('writing new FC')\n",
    "#     write_dataset_to_netcdf(new_fc_data, new_target)\n",
    "    "
   ]
  },
  {
   "cell_type": "code",
   "execution_count": 17,
   "metadata": {},
   "outputs": [
    {
     "name": "stdout",
     "output_type": "stream",
     "text": [
      "path: 089 row:079 date:2014-09-05\n",
      "target dir: /g/data1/r78/dg6911/jrsrp-fc/089_079/\n",
      "reading NBART\n",
      "reading WOFS\n"
     ]
    }
   ],
   "source": [
    "for scene in scenes:\n",
    "    wofs = write_old_and_new_fc(*scene)"
   ]
  },
  {
   "cell_type": "code",
   "execution_count": 22,
   "metadata": {},
   "outputs": [],
   "source": [
    "write_dataset_to_netcdf(wofs, '/g/data1/r78/dg6911/jrsrp-fc/wofs.nc')"
   ]
  },
  {
   "cell_type": "code",
   "execution_count": 24,
   "metadata": {},
   "outputs": [],
   "source": [
    "wofs['water'] = wofs.water.where(wofs.water==128)"
   ]
  },
  {
   "cell_type": "code",
   "execution_count": 26,
   "metadata": {},
   "outputs": [],
   "source": [
    "write_dataset_to_netcdf(wofs, '/g/data1/r78/dg6911/jrsrp-fc/wofs2.nc')"
   ]
  }
 ],
 "metadata": {
  "kernelspec": {
   "display_name": "Python 3",
   "language": "python",
   "name": "python3"
  },
  "language_info": {
   "codemirror_mode": {
    "name": "ipython",
    "version": 3
   },
   "file_extension": ".py",
   "mimetype": "text/x-python",
   "name": "python",
   "nbconvert_exporter": "python",
   "pygments_lexer": "ipython3",
   "version": "3.6.1"
  }
 },
 "nbformat": 4,
 "nbformat_minor": 2
}
